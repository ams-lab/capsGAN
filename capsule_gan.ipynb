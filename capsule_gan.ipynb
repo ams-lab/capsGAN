{
 "cells": [
  {
   "cell_type": "code",
   "execution_count": 44,
   "metadata": {},
   "outputs": [
    {
     "name": "stdout",
     "output_type": "stream",
     "text": [
      "Modules imported.\n",
      "Devices: [name: \"/device:CPU:0\"\n",
      "device_type: \"CPU\"\n",
      "memory_limit: 268435456\n",
      "locality {\n",
      "}\n",
      "incarnation: 9011255001604530858\n",
      ", name: \"/device:GPU:0\"\n",
      "device_type: \"GPU\"\n",
      "memory_limit: 136396800\n",
      "locality {\n",
      "  bus_id: 1\n",
      "}\n",
      "incarnation: 16670803991041366025\n",
      "physical_device_desc: \"device: 0, name: GeForce GTX 660, pci bus id: 0000:01:00.0, compute capability: 3.0\"\n",
      "]\n",
      "Default GPU Device: /device:GPU:0\n"
     ]
    }
   ],
   "source": [
    "# math libraries\n",
    "import numpy as np\n",
    "\n",
    "# ml libraries\n",
    "import tensorflow as tf\n",
    "from keras import layers, models, optimizers\n",
    "from keras import backend as K\n",
    "from keras.utils import to_categorical\n",
    "from keras.datasets import mnist, cifar10\n",
    "from keras.layers import Input, Dense, Reshape, Flatten, Dropout, Lambda, Concatenate, Multiply\n",
    "from keras.layers import BatchNormalization, Activation, ZeroPadding2D\n",
    "from keras.layers.advanced_activations import LeakyReLU\n",
    "from keras.layers.convolutional import UpSampling2D, Conv2D\n",
    "from keras.models import Sequential, Model\n",
    "from keras.optimizers import Adam\n",
    "from keras.preprocessing.image import ImageDataGenerator\n",
    "from keras import callbacks\n",
    "\n",
    "# visualization\n",
    "import skimage\n",
    "from skimage import data, color, exposure\n",
    "from skimage.transform import resize\n",
    "import matplotlib.pyplot as plt\n",
    "%matplotlib inline\n",
    "\n",
    "# sys and helpers\n",
    "import sys\n",
    "import os\n",
    "import glob\n",
    "from tqdm import tqdm\n",
    "\n",
    "print('Modules imported.')\n",
    "\n",
    "\n",
    "\n",
    "# device check\n",
    "from tensorflow.python.client import device_lib\n",
    "print('Devices:', device_lib.list_local_devices())\n",
    "\n",
    "# GPU check\n",
    "if not tf.test.gpu_device_name():\n",
    "    print('No GPU found.')\n",
    "else:\n",
    "    print('Default GPU Device: {}'.format(tf.test.gpu_device_name()))"
   ]
  },
  {
   "cell_type": "markdown",
   "metadata": {},
   "source": [
    "# Loading the data"
   ]
  },
  {
   "cell_type": "code",
   "execution_count": 45,
   "metadata": {},
   "outputs": [
    {
     "name": "stdout",
     "output_type": "stream",
     "text": [
      "Dataset shape: (50000, 32, 32, 3), Image shape: [32, 32, 3]\n"
     ]
    }
   ],
   "source": [
    "def load_dataset(dataset, width, height, channels):\n",
    "    \n",
    "    if dataset == 'mnist':\n",
    "        # load MNIST data\n",
    "        (X_train, y_train), (X_test, y_test) = mnist.load_data()\n",
    "\n",
    "        # rescale -1 to 1\n",
    "        X_train = (X_train.astype(np.float32) - 127.5) / 127.5\n",
    "        X_train = np.expand_dims(X_train, axis=3)\n",
    "        \n",
    "    if dataset == 'cifar10':\n",
    "        # load CIFAR10 data\n",
    "        (X_train, y_train), (X_test, y_test) = cifar10.load_data()\n",
    "\n",
    "        # rescale -1 to 1\n",
    "        X_train = (X_train.astype(np.float32) - 127.5) / 127.5\n",
    "\n",
    "        \n",
    "        \n",
    "    # defining input dims\n",
    "    img_rows = width\n",
    "    img_cols = height\n",
    "    channels = channels\n",
    "    img_shape = [img_rows, img_cols, channels]\n",
    "    \n",
    "    return X_train, img_shape\n",
    "    \n",
    "\n",
    "# if MNIST ('mnist', 28, 28, 1) if CIFAR10 ('cifar10', 32, 32, 3)\n",
    "dataset, shape = load_dataset('cifar10', 32, 32, 3)\n",
    "print('Dataset shape: {0}, Image shape: {1}'.format(dataset.shape, shape))"
   ]
  },
  {
   "cell_type": "markdown",
   "metadata": {},
   "source": [
    "## Helper functions for Capsule layers"
   ]
  },
  {
   "cell_type": "code",
   "execution_count": 46,
   "metadata": {},
   "outputs": [],
   "source": [
    "# squash function of capsule layers, borrowed from Xifeng Guo's implementation of Keras CapsNet `https://github.com/XifengGuo/CapsNet-Keras`\n",
    "def squash(vectors, axis=-1):\n",
    "    \"\"\"\n",
    "    The non-linear activation used in Capsule. It drives the length of a large vector to near 1 and small vector to 0\n",
    "    :param vectors: some vectors to be squashed, N-dim tensor\n",
    "    :param axis: the axis to squash\n",
    "    :return: a Tensor with same shape as input vectors\n",
    "    \"\"\"\n",
    "    s_squared_norm = K.sum(K.square(vectors), axis, keepdims=True)\n",
    "    scale = s_squared_norm / (1 + s_squared_norm) / K.sqrt(s_squared_norm + K.epsilon())\n",
    "    return scale * vectors"
   ]
  },
  {
   "cell_type": "markdown",
   "metadata": {},
   "source": [
    "## Defining the model"
   ]
  },
  {
   "cell_type": "code",
   "execution_count": 47,
   "metadata": {},
   "outputs": [],
   "source": [
    "# discriminator structure\n",
    "def build_discriminator():\n",
    "\n",
    "    \"\"\"\n",
    "    This is the part my 'Capsule Layer as a Discriminator in Generative Adversarial Networks' paper focuses on,\n",
    "    as it introduces a new structure to the discriminator of DCGAN by using Capsule Layers architecture from original\n",
    "    'Dynamic Routing Between Capsules' paper by S. Sabour, N. Frosst and G. Hinton.\n",
    "    \n",
    "    Discriminator takes real/generated images and outputs its prediction.\n",
    "    \"\"\"\n",
    "\n",
    "    # depending on dataset we define input shape for our network\n",
    "    img = Input(shape=(shape[0], shape[1], shape[2]))\n",
    "\n",
    "    # first typical convlayer outputs a 20x20x256 matrix\n",
    "    x = Conv2D(filters=256, kernel_size=9, strides=1, padding='valid', name='conv1')(img)\n",
    "    x = LeakyReLU()(x)\n",
    "    \n",
    "    # original 'Dynamic Routing Between Capsules' paper does not include the batch norm layer after the first conv group\n",
    "    x = BatchNormalization(momentum=0.8)(x)\n",
    "\n",
    "    \n",
    "    \"\"\"\n",
    "    NOTE: Capsule architecture starts from here.\n",
    "    \"\"\"\n",
    "    #\n",
    "    # primarycaps coming first\n",
    "    #\n",
    "    \n",
    "    # filters 256 (n_vectors=8 * channels=32)\n",
    "    x = Conv2D(filters=8 * 32, kernel_size=9, strides=2, padding='valid', name='primarycap_conv2')(x)\n",
    "    \n",
    "    # reshape into the 8D vector for all 32 feature maps combined\n",
    "    # (primary capsule has collections of activations which denote orientation of the digit\n",
    "    # while intensity of the vector which denotes the presence of the digit)\n",
    "    x = Reshape(target_shape=[-1, 8], name='primarycap_reshape')(x)\n",
    "    \n",
    "    # the purpose is to output a number between 0 and 1 for each capsule where the length of the input decides the amount\n",
    "    x = Lambda(squash, name='primarycap_squash')(x)\n",
    "    x = BatchNormalization(momentum=0.8)(x)\n",
    "\n",
    "\n",
    "    #\n",
    "    # digitcaps are here\n",
    "    #\n",
    "    \"\"\"\n",
    "    NOTE: My approach is a simplified version of digitcaps i.e. without expanding dimensions into\n",
    "    [None, 1, input_n_vectors, input_dim_capsule (feature maps)]\n",
    "    and tiling it into [None, num_capsule, input_n_vectors, input_dim_capsule (feature maps)].\n",
    "    Instead I replace it with ordinary Keras Dense layers as weight holders in the following lines.\n",
    "    \n",
    "    ANY CORRECTIONS ARE APPRECIATED IN THIS PART, PLEASE SUBMIT PULL REQUESTS!\n",
    "    \"\"\"\n",
    "    x = Flatten()(x)\n",
    "    # capsule (i) in a lower-level layer needs to decide how to send its output vector to higher-level capsules (j)\n",
    "    # it makes this decision by changing scalar weight (c=coupling coefficient) that will multiply its output vector and then be treated as input to a higher-level capsule\n",
    "    #\n",
    "    # uhat = prediction vector, w = weight matrix but will act as a dense layer, u = output from a previous layer\n",
    "    # uhat = u * w\n",
    "    # neurons 160 (num_capsules=10 * num_vectors=16)\n",
    "    uhat = Dense(160, kernel_initializer='he_normal', bias_initializer='zeros', name='uhat_digitcaps')(x)\n",
    "    \n",
    "    # c = coupling coefficient (softmax over the bias weights, log prior) | \"the coupling coefficients between capsule (i) and all the capsules in the layer above sum to 1\"\n",
    "    # we treat the coupling coefficiant as a softmax over bias weights from the previous dense layer\n",
    "    c = Activation('softmax', name='softmax_digitcaps1')(uhat) # softmax will make sure that each weight c_ij is a non-negative number and their sum equals to one\n",
    "    \n",
    "    # s_j (output of the current capsule level) = uhat * c\n",
    "    c = Dense(160)(c) # compute s_j\n",
    "    x = Multiply()([uhat, c])\n",
    "    \"\"\"\n",
    "    NOTE: Squashing the capsule outputs creates severe blurry artifacts, thus we replace it with Leaky ReLu.\n",
    "    \"\"\"\n",
    "    s_j = LeakyReLU()(x)\n",
    "\n",
    "\n",
    "    #\n",
    "    # we will repeat the routing part 2 more times (num_routing=3) to unfold the loop\n",
    "    #\n",
    "    c = Activation('softmax', name='softmax_digitcaps2')(s_j) # softmax will make sure that each weight c_ij is a non-negative number and their sum equals to one\n",
    "    c = Dense(160)(c) # compute s_j\n",
    "    x = Multiply()([uhat, c])\n",
    "    s_j = LeakyReLU()(x)\n",
    "\n",
    "    c = Activation('softmax', name='softmax_digitcaps3')(s_j) # softmax will make sure that each weight c_ij is a non-negative number and their sum equals to one\n",
    "    c = Dense(160)(c) # compute s_j\n",
    "    x = Multiply()([uhat, c])\n",
    "    s_j = LeakyReLU()(x)\n",
    "\n",
    "    pred = Dense(1, activation='sigmoid')(s_j)\n",
    "\n",
    "    \n",
    "    return Model(img, pred)"
   ]
  },
  {
   "cell_type": "code",
   "execution_count": 48,
   "metadata": {},
   "outputs": [
    {
     "name": "stdout",
     "output_type": "stream",
     "text": [
      "DISCRIMINATOR:\n",
      "__________________________________________________________________________________________________\n",
      "Layer (type)                    Output Shape         Param #     Connected to                     \n",
      "==================================================================================================\n",
      "input_14 (InputLayer)           (None, 32, 32, 3)    0                                            \n",
      "__________________________________________________________________________________________________\n",
      "conv1 (Conv2D)                  (None, 24, 24, 256)  62464       input_14[0][0]                   \n",
      "__________________________________________________________________________________________________\n",
      "leaky_re_lu_9 (LeakyReLU)       (None, 24, 24, 256)  0           conv1[0][0]                      \n",
      "__________________________________________________________________________________________________\n",
      "batch_normalization_26 (BatchNo (None, 24, 24, 256)  1024        leaky_re_lu_9[0][0]              \n",
      "__________________________________________________________________________________________________\n",
      "primarycap_conv2 (Conv2D)       (None, 8, 8, 256)    5308672     batch_normalization_26[0][0]     \n",
      "__________________________________________________________________________________________________\n",
      "primarycap_reshape (Reshape)    (None, 2048, 8)      0           primarycap_conv2[0][0]           \n",
      "__________________________________________________________________________________________________\n",
      "primarycap_squash (Lambda)      (None, 2048, 8)      0           primarycap_reshape[0][0]         \n",
      "__________________________________________________________________________________________________\n",
      "batch_normalization_27 (BatchNo (None, 2048, 8)      32          primarycap_squash[0][0]          \n",
      "__________________________________________________________________________________________________\n",
      "flatten_3 (Flatten)             (None, 16384)        0           batch_normalization_27[0][0]     \n",
      "__________________________________________________________________________________________________\n",
      "uhat_digitcaps (Dense)          (None, 160)          2621600     flatten_3[0][0]                  \n",
      "__________________________________________________________________________________________________\n",
      "softmax_digitcaps1 (Activation) (None, 160)          0           uhat_digitcaps[0][0]             \n",
      "__________________________________________________________________________________________________\n",
      "dense_17 (Dense)                (None, 160)          25760       softmax_digitcaps1[0][0]         \n",
      "__________________________________________________________________________________________________\n",
      "multiply_7 (Multiply)           (None, 160)          0           uhat_digitcaps[0][0]             \n",
      "                                                                 dense_17[0][0]                   \n",
      "__________________________________________________________________________________________________\n",
      "leaky_re_lu_10 (LeakyReLU)      (None, 160)          0           multiply_7[0][0]                 \n",
      "__________________________________________________________________________________________________\n",
      "softmax_digitcaps2 (Activation) (None, 160)          0           leaky_re_lu_10[0][0]             \n",
      "__________________________________________________________________________________________________\n",
      "dense_18 (Dense)                (None, 160)          25760       softmax_digitcaps2[0][0]         \n",
      "__________________________________________________________________________________________________\n",
      "multiply_8 (Multiply)           (None, 160)          0           uhat_digitcaps[0][0]             \n",
      "                                                                 dense_18[0][0]                   \n",
      "__________________________________________________________________________________________________\n",
      "leaky_re_lu_11 (LeakyReLU)      (None, 160)          0           multiply_8[0][0]                 \n",
      "__________________________________________________________________________________________________\n",
      "softmax_digitcaps3 (Activation) (None, 160)          0           leaky_re_lu_11[0][0]             \n",
      "__________________________________________________________________________________________________\n",
      "dense_19 (Dense)                (None, 160)          25760       softmax_digitcaps3[0][0]         \n",
      "__________________________________________________________________________________________________\n",
      "multiply_9 (Multiply)           (None, 160)          0           uhat_digitcaps[0][0]             \n",
      "                                                                 dense_19[0][0]                   \n",
      "__________________________________________________________________________________________________\n",
      "leaky_re_lu_12 (LeakyReLU)      (None, 160)          0           multiply_9[0][0]                 \n",
      "__________________________________________________________________________________________________\n",
      "dense_20 (Dense)                (None, 1)            161         leaky_re_lu_12[0][0]             \n",
      "==================================================================================================\n",
      "Total params: 8,071,233\n",
      "Trainable params: 8,070,705\n",
      "Non-trainable params: 528\n",
      "__________________________________________________________________________________________________\n"
     ]
    }
   ],
   "source": [
    "# build and compile the discriminator\n",
    "discriminator = build_discriminator()\n",
    "print('DISCRIMINATOR:')\n",
    "discriminator.summary()\n",
    "discriminator.compile(loss='binary_crossentropy', optimizer=Adam(0.0002, 0.5), metrics=['accuracy'])"
   ]
  },
  {
   "cell_type": "code",
   "execution_count": 49,
   "metadata": {},
   "outputs": [],
   "source": [
    "# generator structure\n",
    "def build_generator():\n",
    "\n",
    "    \"\"\"\n",
    "    Generator follows the DCGAN architecture and creates generated image representations through learning.\n",
    "    \"\"\"\n",
    "\n",
    "    noise_shape = (100,)\n",
    "    x_noise = Input(shape=noise_shape)\n",
    "\n",
    "    # we apply different kernel sizes in order to match the original image size\n",
    "    \n",
    "    if (shape[0] == 28 and shape[1] == 28):\n",
    "        x = Dense(128 * 7 * 7, activation=\"relu\")(x_noise)\n",
    "        x = Reshape((7, 7, 128))(x)\n",
    "        x = BatchNormalization(momentum=0.8)(x)\n",
    "        x = UpSampling2D()(x)\n",
    "        x = Conv2D(128, kernel_size=3, padding=\"same\")(x)\n",
    "        x = Activation(\"relu\")(x)\n",
    "        x = BatchNormalization(momentum=0.8)(x)\n",
    "        x = UpSampling2D()(x)\n",
    "        x = Conv2D(64, kernel_size=3, padding=\"same\")(x)\n",
    "        x = Activation(\"relu\")(x)\n",
    "        x = BatchNormalization(momentum=0.8)(x)\n",
    "        x = Conv2D(1, kernel_size=3, padding=\"same\")(x)\n",
    "        gen_out = Activation(\"tanh\")(x)\n",
    "        \n",
    "        return Model(x_noise, gen_out)\n",
    "\n",
    "    if (shape[0] == 32 and shape[1] == 32):\n",
    "        x = Dense(128 * 8 * 8, activation=\"relu\")(x_noise)\n",
    "        x = Reshape((8, 8, 128))(x)\n",
    "        x = BatchNormalization(momentum=0.8)(x)\n",
    "        x = UpSampling2D()(x)\n",
    "        x = Conv2D(128, kernel_size=3, padding=\"same\")(x)\n",
    "        x = Activation(\"relu\")(x)\n",
    "        x = BatchNormalization(momentum=0.8)(x)\n",
    "        x = UpSampling2D()(x)\n",
    "        x = Conv2D(64, kernel_size=3, padding=\"same\")(x)\n",
    "        x = Activation(\"relu\")(x)\n",
    "        x = BatchNormalization(momentum=0.8)(x)\n",
    "        x = Conv2D(3, kernel_size=3, padding=\"same\")(x)\n",
    "        gen_out = Activation(\"tanh\")(x)\n",
    "\n",
    "        \n",
    "        return Model(x_noise, gen_out)"
   ]
  },
  {
   "cell_type": "code",
   "execution_count": 50,
   "metadata": {},
   "outputs": [
    {
     "name": "stdout",
     "output_type": "stream",
     "text": [
      "GENERATOR:\n",
      "_________________________________________________________________\n",
      "Layer (type)                 Output Shape              Param #   \n",
      "=================================================================\n",
      "input_15 (InputLayer)        (None, 100)               0         \n",
      "_________________________________________________________________\n",
      "dense_21 (Dense)             (None, 8192)              827392    \n",
      "_________________________________________________________________\n",
      "reshape_9 (Reshape)          (None, 8, 8, 128)         0         \n",
      "_________________________________________________________________\n",
      "batch_normalization_28 (Batc (None, 8, 8, 128)         512       \n",
      "_________________________________________________________________\n",
      "up_sampling2d_15 (UpSampling (None, 16, 16, 128)       0         \n",
      "_________________________________________________________________\n",
      "conv2d_22 (Conv2D)           (None, 16, 16, 128)       147584    \n",
      "_________________________________________________________________\n",
      "activation_22 (Activation)   (None, 16, 16, 128)       0         \n",
      "_________________________________________________________________\n",
      "batch_normalization_29 (Batc (None, 16, 16, 128)       512       \n",
      "_________________________________________________________________\n",
      "up_sampling2d_16 (UpSampling (None, 32, 32, 128)       0         \n",
      "_________________________________________________________________\n",
      "conv2d_23 (Conv2D)           (None, 32, 32, 64)        73792     \n",
      "_________________________________________________________________\n",
      "activation_23 (Activation)   (None, 32, 32, 64)        0         \n",
      "_________________________________________________________________\n",
      "batch_normalization_30 (Batc (None, 32, 32, 64)        256       \n",
      "_________________________________________________________________\n",
      "conv2d_24 (Conv2D)           (None, 32, 32, 3)         1731      \n",
      "_________________________________________________________________\n",
      "activation_24 (Activation)   (None, 32, 32, 3)         0         \n",
      "=================================================================\n",
      "Total params: 1,051,779\n",
      "Trainable params: 1,051,139\n",
      "Non-trainable params: 640\n",
      "_________________________________________________________________\n"
     ]
    }
   ],
   "source": [
    "# build and compile the generator\n",
    "generator = build_generator()\n",
    "print('GENERATOR:')\n",
    "generator.summary()\n",
    "generator.compile(loss='binary_crossentropy', optimizer=Adam(0.0002, 0.5))"
   ]
  },
  {
   "cell_type": "code",
   "execution_count": 51,
   "metadata": {},
   "outputs": [],
   "source": [
    "# feeding noise to generator\n",
    "z = Input(shape=(100,))\n",
    "img = generator(z)"
   ]
  },
  {
   "cell_type": "code",
   "execution_count": 52,
   "metadata": {},
   "outputs": [],
   "source": [
    "# for the combined model we will only train the generator\n",
    "discriminator.trainable = False"
   ]
  },
  {
   "cell_type": "code",
   "execution_count": 53,
   "metadata": {},
   "outputs": [],
   "source": [
    "# try to discriminate generated images\n",
    "valid = discriminator(img)"
   ]
  },
  {
   "cell_type": "code",
   "execution_count": 54,
   "metadata": {},
   "outputs": [
    {
     "name": "stdout",
     "output_type": "stream",
     "text": [
      "COMBINED:\n",
      "_________________________________________________________________\n",
      "Layer (type)                 Output Shape              Param #   \n",
      "=================================================================\n",
      "input_16 (InputLayer)        (None, 100)               0         \n",
      "_________________________________________________________________\n",
      "model_12 (Model)             (None, 32, 32, 3)         1051779   \n",
      "_________________________________________________________________\n",
      "model_11 (Model)             (None, 1)                 8071233   \n",
      "=================================================================\n",
      "Total params: 9,123,012\n",
      "Trainable params: 1,051,139\n",
      "Non-trainable params: 8,071,873\n",
      "_________________________________________________________________\n"
     ]
    }
   ],
   "source": [
    "# the combined model (stacked generator and discriminator) takes\n",
    "# noise as input => generates images => determines validity \n",
    "combined = Model(z, valid)\n",
    "print('COMBINED:')\n",
    "combined.summary()\n",
    "combined.compile(loss='binary_crossentropy', optimizer=Adam(0.0002, 0.5))"
   ]
  },
  {
   "cell_type": "markdown",
   "metadata": {},
   "source": [
    "## Training"
   ]
  },
  {
   "cell_type": "code",
   "execution_count": 55,
   "metadata": {},
   "outputs": [],
   "source": [
    "# loss values for further plotting\n",
    "D_L_REAL = []\n",
    "D_L_FAKE = []\n",
    "D_L = []\n",
    "D_ACC = []\n",
    "G_L = []"
   ]
  },
  {
   "cell_type": "code",
   "execution_count": 56,
   "metadata": {},
   "outputs": [],
   "source": [
    "def train(dataset_title, epochs, batch_size=32, save_interval=50):\n",
    "\n",
    "        half_batch = int(batch_size / 2)\n",
    "\n",
    "        for epoch in range(epochs):\n",
    "\n",
    "            # ---------------------\n",
    "            #  Train Discriminator\n",
    "            # ---------------------\n",
    "\n",
    "            # select a random half batch of images\n",
    "            idx = np.random.randint(0, dataset.shape[0], half_batch)\n",
    "            imgs = dataset[idx]\n",
    "\n",
    "            noise = np.random.normal(0, 1, (half_batch, 100))\n",
    "\n",
    "            # generate a half batch of new images\n",
    "            gen_imgs = generator.predict(noise)\n",
    "\n",
    "            # train the discriminator by feeding both real and fake (generated) images one by one\n",
    "            d_loss_real = discriminator.train_on_batch(imgs, np.ones((half_batch, 1))*0.9) # 0.9 for label smoothing\n",
    "            d_loss_fake = discriminator.train_on_batch(gen_imgs, np.zeros((half_batch, 1)))\n",
    "            d_loss = 0.5 * np.add(d_loss_real, d_loss_fake)\n",
    "\n",
    "\n",
    "            # ---------------------\n",
    "            #  Train Generator\n",
    "            # ---------------------\n",
    "\n",
    "            noise = np.random.normal(0, 1, (batch_size, 100))\n",
    "\n",
    "            # the generator wants the discriminator to label the generated samples\n",
    "            # as valid (ones)\n",
    "            valid_y = np.array([1] * 32)\n",
    "\n",
    "            # train the generator\n",
    "            g_loss = combined.train_on_batch(noise, np.ones((batch_size, 1)))\n",
    "\n",
    "            \n",
    "            # Plot the progress\n",
    "            print (\"%d [D loss: %f, acc.: %.2f%%] [G loss: %f]\" % (epoch, d_loss[0], 100*d_loss[1], g_loss))\n",
    "            D_L_REAL.append(d_loss_real)\n",
    "            D_L_FAKE.append(d_loss_fake)\n",
    "            D_L.append(d_loss)\n",
    "            D_ACC.append(d_loss[1])\n",
    "            G_L.append(g_loss)\n",
    "\n",
    "            # if at save interval => save generated image samples\n",
    "            if epoch % save_interval == 0:\n",
    "                save_imgs(dataset_title, epoch)"
   ]
  },
  {
   "cell_type": "code",
   "execution_count": 58,
   "metadata": {},
   "outputs": [],
   "source": [
    "def save_imgs(dataset_title, epoch):\n",
    "        r, c = 5, 5\n",
    "        noise = np.random.normal(0, 1, (r * c, 100))\n",
    "        gen_imgs = generator.predict(noise)\n",
    "\n",
    "        # rescale images 0 - 1\n",
    "        gen_imgs = 0.5 * gen_imgs + 0.5\n",
    "\n",
    "        fig, axs = plt.subplots(r, c)\n",
    "        cnt = 0\n",
    "        \n",
    "        # iterate in order to create a subplot\n",
    "        for i in range(r):\n",
    "            for j in range(c):\n",
    "                if dataset_title == 'mnist':\n",
    "                    axs[i,j].imshow(gen_imgs[cnt, :,:,0], cmap='gray')\n",
    "                    axs[i,j].axis('off')\n",
    "                    cnt += 1\n",
    "                elif dataset_title == 'cifar10':\n",
    "                    axs[i,j].imshow(gen_imgs[cnt, :,:,:])\n",
    "                    axs[i,j].axis('off')\n",
    "                    cnt += 1\n",
    "                else:\n",
    "                    print('Please indicate the image options.')\n",
    "        \n",
    "        if not os.path.exists('images_{0}'.format(dataset_title)):\n",
    "            os.makedirs('images_{0}'.format(dataset_title))\n",
    "        \n",
    "        fig.savefig(\"images_{0}/{1}.png\".format(dataset_title, epoch))\n",
    "        plt.close()"
   ]
  },
  {
   "cell_type": "code",
   "execution_count": null,
   "metadata": {},
   "outputs": [],
   "source": [
    "history = train('cifar10', epochs=30000, batch_size=32, save_interval=50)\n",
    "#generator.save('mnist_model.h5')\n",
    "generator.save('cifar10_model.h5')"
   ]
  },
  {
   "cell_type": "markdown",
   "metadata": {},
   "source": [
    "## Visualizations"
   ]
  },
  {
   "cell_type": "code",
   "execution_count": 40,
   "metadata": {},
   "outputs": [
    {
     "data": {
      "image/png": "[encoded data removed]",
      "text/plain": [
       "<matplotlib.figure.Figure at 0x86aa9cc278>"
      ]
     },
     "metadata": {},
     "output_type": "display_data"
    }
   ],
   "source": [
    "plt.plot(D_L)\n",
    "plt.title('Discriminator results (MNIST)')\n",
    "plt.xlabel('Epochs')\n",
    "plt.ylabel('Discriminator Loss (blue), Discriminator Accuracy (orange)')\n",
    "plt.legend(['Discriminator Loss', 'Discriminator Accuracy'])\n",
    "plt.show()"
   ]
  },
  {
   "cell_type": "code",
   "execution_count": 41,
   "metadata": {},
   "outputs": [
    {
     "data": {
      "image/png": "[encoded data removed]",
      "text/plain": [
       "<matplotlib.figure.Figure at 0x86aaa0c048>"
      ]
     },
     "metadata": {},
     "output_type": "display_data"
    }
   ],
   "source": [
    "plt.plot(G_L)\n",
    "plt.title('Generator results (MNIST)')\n",
    "plt.xlabel('Epochs')\n",
    "plt.ylabel('Generator Loss (blue)')\n",
    "plt.legend('Generator Loss')\n",
    "plt.show()"
   ]
  },
  {
   "cell_type": "code",
   "execution_count": 24,
   "metadata": {},
   "outputs": [
    {
     "data": {
      "image/png": "[encoded data removed]",
      "text/plain": [
       "<matplotlib.figure.Figure at 0x654c8263c8>"
      ]
     },
     "metadata": {},
     "output_type": "display_data"
    }
   ],
   "source": [
    "plt.plot(D_L)\n",
    "plt.title('Discriminator results (CIFAR10)')\n",
    "plt.xlabel('Epochs')\n",
    "plt.ylabel('Discriminator Loss (blue), Discriminator Accuracy (orange)')\n",
    "plt.legend(['Discriminator Loss', 'Discriminator Accuracy'])\n",
    "plt.show()"
   ]
  },
  {
   "cell_type": "code",
   "execution_count": 25,
   "metadata": {},
   "outputs": [
    {
     "data": {
      "image/png": "[encoded data removed]",
      "text/plain": [
       "<matplotlib.figure.Figure at 0x654e895a20>"
      ]
     },
     "metadata": {},
     "output_type": "display_data"
    }
   ],
   "source": [
    "plt.plot(G_L)\n",
    "plt.title('Generator results (CIFAR10)')\n",
    "plt.xlabel('Epochs')\n",
    "plt.ylabel('Generator Loss (blue)')\n",
    "plt.legend('Generator Loss')\n",
    "plt.show()"
   ]
  },
  {
   "cell_type": "code",
   "execution_count": null,
   "metadata": {},
   "outputs": [],
   "source": []
  }
 ],
 "metadata": {
  "kernelspec": {
   "display_name": "Python 3",
   "language": "python",
   "name": "python3"
  },
  "language_info": {
   "codemirror_mode": {
    "name": "ipython",
    "version": 3
   },
   "file_extension": ".py",
   "mimetype": "text/x-python",
   "name": "python",
   "nbconvert_exporter": "python",
   "pygments_lexer": "ipython3",
   "version": "3.5.0"
  },
  "widgets": {
   "state": {},
   "version": "1.1.2"
  }
 },
 "nbformat": 4,
 "nbformat_minor": 2
}
